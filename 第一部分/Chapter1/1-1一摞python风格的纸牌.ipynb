{
 "cells": [
  {
   "cell_type": "markdown",
   "metadata": {
    "collapsed": false
   },
   "source": [
    "# nametuple() 一个有属性和名字的元组"
   ]
  },
  {
   "cell_type": "code",
   "execution_count": 16,
   "metadata": {
    "ExecuteTime": {
     "end_time": "2023-06-27T17:57:15.296565Z",
     "start_time": "2023-06-27T17:57:15.282013Z"
    },
    "collapsed": false
   },
   "outputs": [
    {
     "name": "stdout",
     "output_type": "stream",
     "text": [
      "Alice\n",
      "30\n"
     ]
    },
    {
     "ename": "AttributeError",
     "evalue": "can't set attribute",
     "output_type": "error",
     "traceback": [
      "\u001b[0;31m---------------------------------------------------------------------------\u001b[0m",
      "\u001b[0;31mAttributeError\u001b[0m                            Traceback (most recent call last)",
      "Cell \u001b[0;32mIn[16], line 16\u001b[0m\n\u001b[1;32m     13\u001b[0m \u001b[38;5;28mprint\u001b[39m(person2\u001b[38;5;241m.\u001b[39mage)    \u001b[38;5;66;03m# 输出: 30\u001b[39;00m\n\u001b[1;32m     15\u001b[0m \u001b[38;5;66;03m# 不可以修改属性内容，它具有和元组一样的性质\u001b[39;00m\n\u001b[0;32m---> 16\u001b[0m \u001b[43mperson1\u001b[49m\u001b[38;5;241;43m.\u001b[39;49m\u001b[43mname\u001b[49m \u001b[38;5;241m=\u001b[39m \u001b[38;5;124m'\u001b[39m\u001b[38;5;124mmomo\u001b[39m\u001b[38;5;124m'\u001b[39m\n",
      "\u001b[0;31mAttributeError\u001b[0m: can't set attribute"
     ]
    }
   ],
   "source": [
    "from collections import namedtuple\n",
    "\n",
    "\"\"\"\n",
    "# 创建有属性的元组，就是元组的每个元素都是有名字的\n",
    "# 访问不再是通过[index] 访问，直接用属性名字\n",
    "相当于我们创建了一个这个类\n",
    "\n",
    "class Person:\n",
    "    def __init__(self, tuple):\n",
    "        self.name = tuple[0]\n",
    "        self.age = tuple[1]\n",
    "        self.gender = tuple[2]\n",
    "\n",
    "然后我们创建的类，就是一个元组，这个元组就是用这些属性名来访问值的\n",
    "\"\"\"\n",
    "Person = namedtuple('Person', ['name', 'age', 'gender'])\n",
    "\n",
    "# 创建具体的元组对象\n",
    "person1 = Person('Alice', 25, 'female')\n",
    "person2 = Person('Bob', 30, 'male')\n",
    "\n",
    "# 访问元组中的元素\n",
    "print(person1.name)   # 输出: Alice\n",
    "print(person2.age)    # 输出: 30\n",
    "\n",
    "# 不可以修改属性内容，它具有和元组一样的性质\n",
    "person1.name = 'momo'"
   ]
  },
  {
   "cell_type": "markdown",
   "metadata": {
    "collapsed": false
   },
   "source": [
    "## 比较"
   ]
  },
  {
   "cell_type": "code",
   "execution_count": 21,
   "metadata": {
    "ExecuteTime": {
     "end_time": "2023-06-27T18:44:25.127084Z",
     "start_time": "2023-06-27T18:44:25.113074Z"
    },
    "collapsed": false
   },
   "outputs": [
    {
     "name": "stdout",
     "output_type": "stream",
     "text": [
      "True\n"
     ]
    }
   ],
   "source": [
    "person3 = Person('Bob', 30, 'male')\n",
    "\n",
    "# 可以直接通过逻辑运算符比较 nametuple 对象\n",
    "print(person2 == person3)"
   ]
  },
  {
   "cell_type": "code",
   "execution_count": 2,
   "metadata": {
    "ExecuteTime": {
     "end_time": "2023-06-27T17:25:49.610678Z",
     "start_time": "2023-06-27T17:25:49.585859Z"
    },
    "collapsed": false
   },
   "outputs": [],
   "source": [
    "import collections\n",
    "# 创建一个名为 Card 的 nametuple\n",
    "# 带有两个属性 rank 和 suit 可以存储变量\n",
    "Card = collections.namedtuple('Card', ['rank', 'suit'])"
   ]
  },
  {
   "cell_type": "markdown",
   "metadata": {
    "collapsed": false
   },
   "source": [
    "# 花色和点数"
   ]
  },
  {
   "cell_type": "code",
   "execution_count": 5,
   "metadata": {
    "ExecuteTime": {
     "end_time": "2023-06-27T17:26:14.721135Z",
     "start_time": "2023-06-27T17:26:14.703665Z"
    },
    "collapsed": false
   },
   "outputs": [
    {
     "name": "stdout",
     "output_type": "stream",
     "text": [
      "['2', '3', '4', '5', '6', '7', '8', '9', '10', 'J', 'Q', 'K', 'A'] \n",
      " ['spades', 'diamonds', 'clubs', 'hearts']\n"
     ]
    }
   ],
   "source": [
    "# 扑克点数\n",
    "ranks = [str(n) for n in range(2, 11)] + list('JQKA')\n",
    "# 扑克花色\n",
    "suits = 'spades diamonds clubs hearts'.split()\n",
    "\n",
    "print(ranks, \"\\n\", suits)"
   ]
  },
  {
   "cell_type": "markdown",
   "metadata": {
    "collapsed": false
   },
   "source": [
    "# 类的私有属性"
   ]
  },
  {
   "cell_type": "code",
   "execution_count": 7,
   "metadata": {
    "ExecuteTime": {
     "end_time": "2023-06-27T17:34:26.953339Z",
     "start_time": "2023-06-27T17:34:26.948235Z"
    },
    "collapsed": false
   },
   "outputs": [
    {
     "name": "stdout",
     "output_type": "stream",
     "text": [
      "42\n",
      "42\n",
      "100\n"
     ]
    }
   ],
   "source": [
    "class MyClass:\n",
    "    def __init__(self):\n",
    "        self._private_attr = 42     # 私有变量\n",
    "\n",
    "    def get_private_attr(self):\n",
    "        return self._private_attr\n",
    "\n",
    "    def set_private_attr(self, value):\n",
    "        self._private_attr = value\n",
    "\n",
    "# 创建 MyClass 对象\n",
    "my_obj = MyClass()\n",
    "\n",
    "# 虽然说可以字节访问到，但是我们约定俗成的是 _开头的变量不可以外部字节访问\n",
    "# 这个就是所谓的防君子，不放小人\n",
    "print(my_obj._private_attr)\n",
    "\n",
    "# 通过公共方法访问私有属性\n",
    "print(my_obj.get_private_attr())  # 输出: 42\n",
    "\n",
    "my_obj.set_private_attr(100)\n",
    "print(my_obj.get_private_attr())  # 输出: 100"
   ]
  },
  {
   "cell_type": "markdown",
   "metadata": {
    "collapsed": false
   },
   "source": [
    "# 扑克类的创建"
   ]
  },
  {
   "cell_type": "code",
   "execution_count": null,
   "metadata": {
    "collapsed": false
   },
   "outputs": [],
   "source": [
    "class FrenchDeck:\n",
    "    ranks = [str(n) for n in range(2, 11)] + list('JQKA')\n",
    "    suits = 'spades diamonds clubs hearts'.split()\n",
    "    def __init__(self):\n",
    "        # 创建卡牌对象\n",
    "        self._cards = \\\n",
    "            [Card(rank, suit)\n",
    "                    for suit in self.suits\n",
    "                    for rank in self.ranks]\n",
    "\n",
    "    # 魔术方法\n",
    "    def __len__(self):\n",
    "        \"\"\"\n",
    "        len(FenchDeck对象) 的时候，就会返回卡牌的数量\n",
    "        \"\"\"\n",
    "        return len(self._cards)\n",
    "\n",
    "    def __getitem__(self, position):\n",
    "        \"\"\"\n",
    "        [] --> 列表用于遍历卡牌数组\n",
    "        \"\"\"\n",
    "        return self._cards[position]"
   ]
  },
  {
   "cell_type": "markdown",
   "metadata": {
    "collapsed": false
   },
   "source": [
    "## 解析 双for列表是什么意思"
   ]
  },
  {
   "cell_type": "code",
   "execution_count": 8,
   "metadata": {
    "ExecuteTime": {
     "end_time": "2023-06-27T17:44:47.368613Z",
     "start_time": "2023-06-27T17:44:47.334752Z"
    },
    "collapsed": false
   },
   "outputs": [
    {
     "data": {
      "text/plain": [
       "[('2', 'spades'),\n",
       " ('3', 'spades'),\n",
       " ('4', 'spades'),\n",
       " ('5', 'spades'),\n",
       " ('6', 'spades'),\n",
       " ('7', 'spades'),\n",
       " ('8', 'spades'),\n",
       " ('9', 'spades'),\n",
       " ('10', 'spades'),\n",
       " ('J', 'spades'),\n",
       " ('Q', 'spades'),\n",
       " ('K', 'spades'),\n",
       " ('A', 'spades'),\n",
       " ('2', 'diamonds'),\n",
       " ('3', 'diamonds'),\n",
       " ('4', 'diamonds'),\n",
       " ('5', 'diamonds'),\n",
       " ('6', 'diamonds'),\n",
       " ('7', 'diamonds'),\n",
       " ('8', 'diamonds'),\n",
       " ('9', 'diamonds'),\n",
       " ('10', 'diamonds'),\n",
       " ('J', 'diamonds'),\n",
       " ('Q', 'diamonds'),\n",
       " ('K', 'diamonds'),\n",
       " ('A', 'diamonds'),\n",
       " ('2', 'clubs'),\n",
       " ('3', 'clubs'),\n",
       " ('4', 'clubs'),\n",
       " ('5', 'clubs'),\n",
       " ('6', 'clubs'),\n",
       " ('7', 'clubs'),\n",
       " ('8', 'clubs'),\n",
       " ('9', 'clubs'),\n",
       " ('10', 'clubs'),\n",
       " ('J', 'clubs'),\n",
       " ('Q', 'clubs'),\n",
       " ('K', 'clubs'),\n",
       " ('A', 'clubs'),\n",
       " ('2', 'hearts'),\n",
       " ('3', 'hearts'),\n",
       " ('4', 'hearts'),\n",
       " ('5', 'hearts'),\n",
       " ('6', 'hearts'),\n",
       " ('7', 'hearts'),\n",
       " ('8', 'hearts'),\n",
       " ('9', 'hearts'),\n",
       " ('10', 'hearts'),\n",
       " ('J', 'hearts'),\n",
       " ('Q', 'hearts'),\n",
       " ('K', 'hearts'),\n",
       " ('A', 'hearts')]"
      ]
     },
     "execution_count": 8,
     "metadata": {},
     "output_type": "execute_result"
    }
   ],
   "source": [
    "ranks = [str(n) for n in range(2, 11)] + list('JQKA')\n",
    "suits = 'spades diamonds clubs hearts'.split()\n",
    "\n",
    "\"\"\"\n",
    "你会发现这两个 for 相当于嵌套的循环\n",
    "for suit in suits:\n",
    "    for rank in ranks:\n",
    "        ls.append((rank, suit))\n",
    "\"\"\"\n",
    "\n",
    "ls = [(rank, suit)\n",
    "            for suit in suits\n",
    "            for rank in ranks]\n",
    "\n",
    "ls"
   ]
  },
  {
   "cell_type": "markdown",
   "metadata": {
    "collapsed": false
   },
   "source": [
    "## 所谓魔术方法就是重构原来的标准方法"
   ]
  },
  {
   "cell_type": "code",
   "execution_count": 30,
   "metadata": {
    "ExecuteTime": {
     "end_time": "2023-06-27T19:22:33.930978Z",
     "start_time": "2023-06-27T19:22:33.910204Z"
    },
    "collapsed": false
   },
   "outputs": [
    {
     "name": "stdout",
     "output_type": "stream",
     "text": [
      "52\n",
      "Card(rank='3', suit='spades')\n",
      "True\n"
     ]
    }
   ],
   "source": [
    "import collections\n",
    "\n",
    "Card = collections.namedtuple('Card', ['rank', 'suit'])\n",
    "\n",
    "class FrenchDeck:\n",
    "    ranks = [str(n) for n in range(2, 11)] + list('JQKA')\n",
    "    suits = 'spades diamonds clubs hearts'.split()\n",
    "    def __init__(self):\n",
    "        # 创建卡牌对象数组\n",
    "        self._cards = \\\n",
    "            [Card(rank, suit)\n",
    "                    for suit in self.suits\n",
    "                    for rank in self.ranks]\n",
    "\n",
    "    def __len__(self):\n",
    "        return len(self._cards)\n",
    "\n",
    "    def __getitem__(self, position):\n",
    "        return self._cards[position]\n",
    "\n",
    "    def __contains__(self, card_check: Card):\n",
    "        \"\"\"\n",
    "        重构 in 遍历数组，如果有相同的卡牌，就返回 True\n",
    "        由于一般的 in 无法遍历我们定义的数组，所以我们要重构\n",
    "        \"\"\"\n",
    "        for card in self._cards:\n",
    "            if card_check == card:\n",
    "                return True\n",
    "        return None\n",
    "\n",
    "# 卡牌集\n",
    "deck = FrenchDeck()\n",
    "\n",
    "print(len(deck))    # len() --> deck.__len__\n",
    "\n",
    "print(deck[1])      # [] ---> deck.__getitem__\n",
    "\n",
    "newcard = Card('A', \"spades\")\n",
    "\n",
    "print(newcard in deck)\n"
   ]
  },
  {
   "cell_type": "code",
   "execution_count": 20,
   "metadata": {
    "ExecuteTime": {
     "end_time": "2023-06-27T18:39:49.816325Z",
     "start_time": "2023-06-27T18:39:49.802542Z"
    },
    "collapsed": false
   },
   "outputs": [
    {
     "data": {
      "text/plain": [
       "Card(rank='6', suit='clubs')"
      ]
     },
     "execution_count": 20,
     "metadata": {},
     "output_type": "execute_result"
    }
   ],
   "source": [
    "from random import choice\n",
    "\"\"\"\n",
    "    你会发现，我们没必要重新写一个想关于 choice 的函数\n",
    "    只要我们重构好了 [] 这就是魔术方法的意义\n",
    "\"\"\"\n",
    "choice(deck)    # choice 就是从列表中选一个出来"
   ]
  }
 ],
 "metadata": {
  "kernelspec": {
   "display_name": "Python 3",
   "language": "python",
   "name": "python3"
  },
  "language_info": {
   "codemirror_mode": {
    "name": "ipython",
    "version": 2
   },
   "file_extension": ".py",
   "mimetype": "text/x-python",
   "name": "python",
   "nbconvert_exporter": "python",
   "pygments_lexer": "ipython2",
   "version": "2.7.6"
  }
 },
 "nbformat": 4,
 "nbformat_minor": 0
}
