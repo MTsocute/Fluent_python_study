{
 "cells": [
  {
   "cell_type": "markdown",
   "metadata": {
    "collapsed": false
   },
   "source": [
    "# 映射的弹性键查询\n",
    "> 处理有些时候某些键在映射里不存在，我们也希望通过这个键读取值的时候还能得到一个默认值<br>\n",
    "> 我们有两种处理方法来实现"
   ]
  },
  {
   "cell_type": "markdown",
   "metadata": {
    "collapsed": false
   },
   "source": [
    "# 3.4.1 defaultdict( )：处理找不到键的一个选择"
   ]
  },
  {
   "cell_type": "code",
   "execution_count": 2,
   "metadata": {
    "ExecuteTime": {
     "end_time": "2023-07-11T00:48:55.425460Z",
     "start_time": "2023-07-11T00:48:55.419003Z"
    },
    "collapsed": false
   },
   "outputs": [
    {
     "data": {
      "text/plain": [
       "defaultdict(list, {'new-key': []})"
      ]
     },
     "execution_count": 2,
     "metadata": {},
     "output_type": "execute_result"
    }
   ],
   "source": [
    "from collections import defaultdict\n",
    "\n",
    "dd = defaultdict(list)  # 如果键不存在，就创建一个空列表作为新的键值对\n",
    "\n",
    "dd[\"new-key\"]   # 查询一个不存在的键\n",
    "\n",
    "dd"
   ]
  },
  {
   "cell_type": "markdown",
   "metadata": {
    "collapsed": false
   },
   "source": [
    "> [ ] 找不到键会创建默认值，但是如果你是用 get( ) 方法，就只会返回 None，或者你设定好的默认值"
   ]
  },
  {
   "cell_type": "code",
   "execution_count": 9,
   "metadata": {
    "ExecuteTime": {
     "end_time": "2023-07-11T01:02:59.050076Z",
     "start_time": "2023-07-11T01:02:59.045490Z"
    },
    "collapsed": false
   },
   "outputs": [
    {
     "name": "stdout",
     "output_type": "stream",
     "text": [
      "None\n",
      "ok\n"
     ]
    }
   ],
   "source": [
    "print(dd.get(\"another\"))\n",
    "\n",
    "print(dd.get(\"life\",\"ok\"))"
   ]
  },
  {
   "cell_type": "markdown",
   "metadata": {
    "collapsed": false
   },
   "source": [
    "# 3.4.2 特殊方法  \\__missing__\n",
    "> 所有的映射类型找不到键的时候，都会牵扯到 \\__missing__ <br>\n",
    "> \\__missing__(self, key) 特殊方法也只会被 \\__getitem__ 调用<br>\n",
    "> 所以只能 [ ] 找不到键的时候，才会创建键值对"
   ]
  },
  {
   "cell_type": "markdown",
   "metadata": {
    "collapsed": false
   },
   "source": [
    "### 3-7 把非字符串的键转换成字符串\n",
    "> 由于 dict 类知道 \\__missing__ 这个方法，我们就直接继承过来改写"
   ]
  },
  {
   "cell_type": "code",
   "execution_count": 11,
   "metadata": {
    "ExecuteTime": {
     "end_time": "2023-07-11T17:01:51.089195Z",
     "start_time": "2023-07-11T17:01:51.053011Z"
    },
    "collapsed": false
   },
   "outputs": [],
   "source": [
    "# 关键字是字符串也可以做到映射的字典\n",
    "class StrKetDcit0(dict):\n",
    "    # 处理找不到的情况\n",
    "    def __missing__(self, key):\n",
    "        if isinstance(key, str):    # 如果找不到的键本身就是字符串，直接报错\n",
    "            return KeyError\n",
    "        return self[str(key)]       # 找不到的键不是字符串，那就转换成字符串在找一下\n",
    "\n",
    "    def get(self, key, default = None):\n",
    "        try:\n",
    "            return self[key]    # 原本 get 是不会触发 __missing__ 方法的，但是这里委托给了 []\n",
    "        except KeyError:\n",
    "            return default\n",
    "\n",
    "    # [] 方法的重载\n",
    "    def __contains__(self, key):\n",
    "        return key in self.keys() or str(key) in self.keys()"
   ]
  },
  {
   "cell_type": "code",
   "execution_count": 12,
   "metadata": {
    "ExecuteTime": {
     "end_time": "2023-07-11T17:01:52.762794Z",
     "start_time": "2023-07-11T17:01:52.734506Z"
    },
    "collapsed": false
   },
   "outputs": [
    {
     "name": "stdout",
     "output_type": "stream",
     "text": [
      "one\n",
      "two\n"
     ]
    }
   ],
   "source": [
    "# 创建对象\n",
    "d = StrKetDcit0({\"1\": \"one\", \"2\": \"two\", \"3\": \"three\"})\n",
    "\n",
    "# 你会发现，我们无论是数字类型做键还是字符串作键，都可以有很好的处理\n",
    "print(d[\"1\"])\n",
    "\n",
    "print(d[2])"
   ]
  },
  {
   "cell_type": "code",
   "execution_count": 14,
   "metadata": {
    "ExecuteTime": {
     "end_time": "2023-07-11T17:02:50.679866Z",
     "start_time": "2023-07-11T17:02:50.665633Z"
    },
    "collapsed": false
   },
   "outputs": [
    {
     "name": "stdout",
     "output_type": "stream",
     "text": [
      "two\n",
      "three\n"
     ]
    }
   ],
   "source": [
    "# 处理 get() 方法\n",
    "print(d.get(\"2\"))\n",
    "\n",
    "print(d.get(3))"
   ]
  }
 ],
 "metadata": {
  "kernelspec": {
   "display_name": "Python 3",
   "language": "python",
   "name": "python3"
  },
  "language_info": {
   "codemirror_mode": {
    "name": "ipython",
    "version": 2
   },
   "file_extension": ".py",
   "mimetype": "text/x-python",
   "name": "python",
   "nbconvert_exporter": "python",
   "pygments_lexer": "ipython2",
   "version": "2.7.6"
  }
 },
 "nbformat": 4,
 "nbformat_minor": 0
}
