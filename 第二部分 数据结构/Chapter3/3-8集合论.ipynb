{
 "cells": [
  {
   "cell_type": "markdown",
   "source": [
    "# 集合论"
   ],
   "metadata": {
    "collapsed": false
   }
  },
  {
   "cell_type": "markdown",
   "source": [
    "## 1. 集合可以去重"
   ],
   "metadata": {
    "collapsed": false
   }
  },
  {
   "cell_type": "code",
   "execution_count": 3,
   "outputs": [
    {
     "data": {
      "text/plain": "{'eggs', 'spam'}"
     },
     "execution_count": 3,
     "metadata": {},
     "output_type": "execute_result"
    }
   ],
   "source": [
    "l = ['spam', 'spam', 'eggs', 'spam']\n",
    "l = set(l)  # 去除重复的元素\n",
    "l"
   ],
   "metadata": {
    "collapsed": false,
    "ExecuteTime": {
     "end_time": "2023-07-15T00:29:37.668996Z",
     "start_time": "2023-07-15T00:29:37.662497Z"
    }
   }
  },
  {
   "cell_type": "markdown",
   "source": [
    "## 2. 集的运算符\n",
    "> a | b 返回他们的集合，a & b 得到的是交集， a - b 得到的是差集"
   ],
   "metadata": {
    "collapsed": false
   }
  },
  {
   "cell_type": "markdown",
   "source": [
    "### 2.1 利用 & 快速得出两个集的交集个数"
   ],
   "metadata": {
    "collapsed": false
   }
  },
  {
   "cell_type": "code",
   "execution_count": 28,
   "outputs": [
    {
     "name": "stdout",
     "output_type": "stream",
     "text": [
      "3\n",
      "9.7e-05\n"
     ]
    }
   ],
   "source": [
    "import time\n",
    "\n",
    "start = time.time()\n",
    "\n",
    "a = {1, 2, 3, 4}\n",
    "b = {2, 3, 4, 5}\n",
    "\n",
    "print(len(a & b))\n",
    "\n",
    "print(f\"{time.time() - start:.3}\")"
   ],
   "metadata": {
    "collapsed": false,
    "ExecuteTime": {
     "end_time": "2023-07-15T00:38:14.528801Z",
     "start_time": "2023-07-15T00:38:14.518760Z"
    }
   }
  },
  {
   "cell_type": "markdown",
   "source": [
    "### 2.2 传统方法实现上面的操纵\n",
    "> 传统方式甚至比集要慢的"
   ],
   "metadata": {
    "collapsed": false
   }
  },
  {
   "cell_type": "code",
   "execution_count": 31,
   "outputs": [
    {
     "name": "stdout",
     "output_type": "stream",
     "text": [
      "3\n",
      "0.00066\n"
     ]
    }
   ],
   "source": [
    "import time\n",
    "\n",
    "start = time.time()\n",
    "\n",
    "count = 0\n",
    "\n",
    "for i in a:\n",
    "    if i in b:\n",
    "        count += 1\n",
    "\n",
    "print(count)\n",
    "\n",
    "print(f\"{time.time() - start:.3}\")"
   ],
   "metadata": {
    "collapsed": false,
    "ExecuteTime": {
     "end_time": "2023-07-15T00:43:23.475888Z",
     "start_time": "2023-07-15T00:43:23.475130Z"
    }
   }
  },
  {
   "cell_type": "markdown",
   "source": [
    "# 3.8.1 集合字面量\n",
    "> 如果是空集，那就得是 set()，{} 这个是字典"
   ],
   "metadata": {
    "collapsed": false
   }
  },
  {
   "cell_type": "code",
   "execution_count": 37,
   "outputs": [
    {
     "name": "stdout",
     "output_type": "stream",
     "text": [
      "类型是： <class 'set'> \n",
      "空集是： set()\n"
     ]
    }
   ],
   "source": [
    "s = {1}\n",
    "s.pop()\n",
    "\n",
    "print(\"类型是：\", type(s), \"\\n空集是：\", s)"
   ],
   "metadata": {
    "collapsed": false,
    "ExecuteTime": {
     "end_time": "2023-07-15T00:50:21.730217Z",
     "start_time": "2023-07-15T00:50:21.725986Z"
    }
   }
  },
  {
   "cell_type": "code",
   "execution_count": 38,
   "outputs": [
    {
     "data": {
      "text/plain": "frozenset({0, 1, 2, 3, 4, 5, 6, 7, 8, 9})"
     },
     "execution_count": 38,
     "metadata": {},
     "output_type": "execute_result"
    }
   ],
   "source": [
    "frozenset(range(10))"
   ],
   "metadata": {
    "collapsed": false,
    "ExecuteTime": {
     "end_time": "2023-07-15T00:53:55.334052Z",
     "start_time": "2023-07-15T00:53:55.331638Z"
    }
   }
  },
  {
   "cell_type": "markdown",
   "source": [
    "# 3.8.2 集合推导 (setcomps)"
   ],
   "metadata": {
    "collapsed": false
   }
  },
  {
   "cell_type": "code",
   "execution_count": 40,
   "outputs": [
    {
     "data": {
      "text/plain": "{'¢', '£', '¤', '¥', '§', '©', '¬', '®', '°', '±', 'µ', '¶', '×', '÷'}"
     },
     "execution_count": 40,
     "metadata": {},
     "output_type": "execute_result"
    }
   ],
   "source": [
    "from unicodedata import name\n",
    "\n",
    "s = {chr(i) for i in range(100, 256) if 'SIGN' in name(chr(i), '')}\n",
    "\n",
    "s  # 所有名字中带有 SIGN 的字符的集合"
   ],
   "metadata": {
    "collapsed": false,
    "ExecuteTime": {
     "end_time": "2023-07-15T01:08:13.424550Z",
     "start_time": "2023-07-15T01:08:13.421962Z"
    }
   }
  },
  {
   "cell_type": "markdown",
   "source": [
    "# 3.8.3 集合的操作"
   ],
   "metadata": {
    "collapsed": false
   }
  },
  {
   "cell_type": "markdown",
   "source": [
    "## 3.1 集合的元素操作"
   ],
   "metadata": {
    "collapsed": false
   }
  },
  {
   "cell_type": "code",
   "execution_count": 43,
   "outputs": [],
   "source": [
    "s1 = {1, 2, 3, 4}\n",
    "s2 = set([3, 4, 5, 6])"
   ],
   "metadata": {
    "collapsed": false,
    "ExecuteTime": {
     "end_time": "2023-07-15T04:38:20.151539Z",
     "start_time": "2023-07-15T04:38:20.118921Z"
    }
   }
  },
  {
   "cell_type": "markdown",
   "source": [
    "### 3.1.2 添加操作"
   ],
   "metadata": {
    "collapsed": false
   }
  },
  {
   "cell_type": "code",
   "execution_count": 53,
   "outputs": [
    {
     "name": "stdout",
     "output_type": "stream",
     "text": [
      "{4}\n",
      "{3, 4, 5, 6, 7, 8, 9, 10}\n"
     ]
    }
   ],
   "source": [
    "s1.add(4)  # 单个元素添加\n",
    "s2.update([7, 8, 9])  # 多个元素添加\n",
    "\n",
    "print(s1)\n",
    "print(s2)"
   ],
   "metadata": {
    "collapsed": false,
    "ExecuteTime": {
     "end_time": "2023-07-15T04:53:21.814975Z",
     "start_time": "2023-07-15T04:53:21.802818Z"
    }
   }
  },
  {
   "cell_type": "code",
   "execution_count": 54,
   "outputs": [
    {
     "data": {
      "text/plain": "{3, 4, 5, 6, 7, 8, 9, 10}"
     },
     "execution_count": 54,
     "metadata": {},
     "output_type": "execute_result"
    }
   ],
   "source": [
    "s3 = s2.copy()  # 潜拷贝\n",
    "\n",
    "s3"
   ],
   "metadata": {
    "collapsed": false,
    "ExecuteTime": {
     "end_time": "2023-07-15T04:53:23.677109Z",
     "start_time": "2023-07-15T04:53:23.661643Z"
    }
   }
  },
  {
   "cell_type": "markdown",
   "source": [
    "### 3.1.3 删除操作"
   ],
   "metadata": {
    "collapsed": false
   }
  },
  {
   "cell_type": "code",
   "execution_count": 46,
   "outputs": [
    {
     "data": {
      "text/plain": "set()"
     },
     "execution_count": 46,
     "metadata": {},
     "output_type": "execute_result"
    }
   ],
   "source": [
    "s1.clear()  # 删除所有的元素\n",
    "s1"
   ],
   "metadata": {
    "collapsed": false,
    "ExecuteTime": {
     "end_time": "2023-07-15T04:41:19.705618Z",
     "start_time": "2023-07-15T04:41:19.701578Z"
    }
   }
  },
  {
   "cell_type": "markdown",
   "source": [
    "---\n",
    "> discard(e) 删除如果不存在不会报错，但是 remove(e) 删除不存在的话会 keyError <br>\n",
    "> pop() 随机删除一个元素，但是如果 s1 为空就是 keyError"
   ],
   "metadata": {
    "collapsed": false
   }
  },
  {
   "cell_type": "code",
   "execution_count": 47,
   "outputs": [
    {
     "ename": "KeyError",
     "evalue": "'pop from an empty set'",
     "output_type": "error",
     "traceback": [
      "\u001B[0;31m---------------------------------------------------------------------------\u001B[0m",
      "\u001B[0;31mKeyError\u001B[0m                                  Traceback (most recent call last)",
      "Cell \u001B[0;32mIn[47], line 1\u001B[0m\n\u001B[0;32m----> 1\u001B[0m \u001B[43ms1\u001B[49m\u001B[38;5;241;43m.\u001B[39;49m\u001B[43mpop\u001B[49m\u001B[43m(\u001B[49m\u001B[43m)\u001B[49m\n",
      "\u001B[0;31mKeyError\u001B[0m: 'pop from an empty set'"
     ]
    }
   ],
   "source": [
    "s1.pop()"
   ],
   "metadata": {
    "collapsed": false,
    "ExecuteTime": {
     "end_time": "2023-07-15T04:48:51.099906Z",
     "start_time": "2023-07-15T04:48:50.952309Z"
    }
   }
  },
  {
   "cell_type": "code",
   "execution_count": 48,
   "outputs": [
    {
     "ename": "KeyError",
     "evalue": "4",
     "output_type": "error",
     "traceback": [
      "\u001B[0;31m---------------------------------------------------------------------------\u001B[0m",
      "\u001B[0;31mKeyError\u001B[0m                                  Traceback (most recent call last)",
      "Cell \u001B[0;32mIn[48], line 1\u001B[0m\n\u001B[0;32m----> 1\u001B[0m \u001B[43ms1\u001B[49m\u001B[38;5;241;43m.\u001B[39;49m\u001B[43mremove\u001B[49m\u001B[43m(\u001B[49m\u001B[38;5;241;43m4\u001B[39;49m\u001B[43m)\u001B[49m\n",
      "\u001B[0;31mKeyError\u001B[0m: 4"
     ]
    }
   ],
   "source": [
    "s1.remove(4)"
   ],
   "metadata": {
    "collapsed": false,
    "ExecuteTime": {
     "end_time": "2023-07-15T04:49:02.200135Z",
     "start_time": "2023-07-15T04:49:02.186408Z"
    }
   }
  },
  {
   "cell_type": "code",
   "execution_count": 49,
   "outputs": [],
   "source": [
    "s1.discard(4)"
   ],
   "metadata": {
    "collapsed": false,
    "ExecuteTime": {
     "end_time": "2023-07-15T04:49:09.524517Z",
     "start_time": "2023-07-15T04:49:09.521065Z"
    }
   }
  },
  {
   "cell_type": "markdown",
   "source": [
    "## 3.2 集合的数学操作"
   ],
   "metadata": {
    "collapsed": false
   }
  },
  {
   "cell_type": "markdown",
   "source": [
    "### 3.2.1 求交集"
   ],
   "metadata": {
    "collapsed": false
   }
  },
  {
   "cell_type": "code",
   "execution_count": 59,
   "outputs": [
    {
     "name": "stdout",
     "output_type": "stream",
     "text": [
      "{2, 3, 4}\n",
      "{1, 2, 3, 4}\n"
     ]
    }
   ],
   "source": [
    "s1 = {1, 2, 3, 4}\n",
    "s2 = {2, 3, 4, 5}\n",
    "\n",
    "print(s1 & s2) # 交集\n",
    "\n",
    "s1.intersection(s2)     # s1 &= s2\n",
    "\n",
    "print(s1)"
   ],
   "metadata": {
    "collapsed": false,
    "ExecuteTime": {
     "end_time": "2023-07-15T05:05:01.193614Z",
     "start_time": "2023-07-15T05:05:01.184700Z"
    }
   }
  },
  {
   "cell_type": "markdown",
   "source": [
    "### 3.2.2 求并集"
   ],
   "metadata": {
    "collapsed": false
   }
  },
  {
   "cell_type": "code",
   "execution_count": 62,
   "outputs": [
    {
     "name": "stdout",
     "output_type": "stream",
     "text": [
      "{1, 2, 3, 4, 5}\n",
      "{1, 2, 3, 4, 5}\n"
     ]
    }
   ],
   "source": [
    "s3 = s1 | s2    # 求并集\n",
    "print(s3)\n",
    "\n",
    "s4 = s1.union(s2) # s4 = s1 |= s2\n",
    "print(s4)"
   ],
   "metadata": {
    "collapsed": false,
    "ExecuteTime": {
     "end_time": "2023-07-15T05:08:05.071748Z",
     "start_time": "2023-07-15T05:08:05.068776Z"
    }
   }
  },
  {
   "cell_type": "markdown",
   "source": [
    "### 3.2.3 求差集\n",
    "> B - A，就是 B 中有的，但是 A 中不存在"
   ],
   "metadata": {
    "collapsed": false
   }
  },
  {
   "cell_type": "code",
   "execution_count": 67,
   "outputs": [
    {
     "name": "stdout",
     "output_type": "stream",
     "text": [
      "{1}\n",
      "{1}\n"
     ]
    }
   ],
   "source": [
    "print(s1 - s2)\n",
    "\n",
    "s5 = s1.difference(s2) # s5 = s1 - s2\n",
    "print(s5)"
   ],
   "metadata": {
    "collapsed": false,
    "ExecuteTime": {
     "end_time": "2023-07-15T05:10:50.516018Z",
     "start_time": "2023-07-15T05:10:50.506129Z"
    }
   }
  },
  {
   "cell_type": "markdown",
   "source": [
    "### 3.2.4 求对称差集\n",
    "> 就是他们交集中不存在的元素"
   ],
   "metadata": {
    "collapsed": false
   }
  },
  {
   "cell_type": "code",
   "execution_count": 68,
   "outputs": [
    {
     "name": "stdout",
     "output_type": "stream",
     "text": [
      "{1, 5}\n",
      "{1, 5}\n"
     ]
    }
   ],
   "source": [
    "print(s1 ^ s2)\n",
    "\n",
    "s6 = s1.symmetric_difference(s2)  # s5 = s1 ^ s2\n",
    "print(s6)"
   ],
   "metadata": {
    "collapsed": false,
    "ExecuteTime": {
     "end_time": "2023-07-15T05:12:43.941496Z",
     "start_time": "2023-07-15T05:12:43.929979Z"
    }
   }
  }
 ],
 "metadata": {
  "kernelspec": {
   "display_name": "Python 3",
   "language": "python",
   "name": "python3"
  },
  "language_info": {
   "codemirror_mode": {
    "name": "ipython",
    "version": 2
   },
   "file_extension": ".py",
   "mimetype": "text/x-python",
   "name": "python",
   "nbconvert_exporter": "python",
   "pygments_lexer": "ipython2",
   "version": "2.7.6"
  }
 },
 "nbformat": 4,
 "nbformat_minor": 0
}
