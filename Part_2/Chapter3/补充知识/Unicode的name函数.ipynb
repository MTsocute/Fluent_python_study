{
 "cells": [
  {
   "cell_type": "markdown",
   "metadata": {
    "collapsed": false
   },
   "source": [
    "# unicodedata 的 name() 函数返回字符的名称"
   ]
  },
  {
   "cell_type": "code",
   "execution_count": 3,
   "metadata": {
    "ExecuteTime": {
     "end_time": "2023-07-15T01:03:18.906355Z",
     "start_time": "2023-07-15T01:03:18.901763Z"
    },
    "collapsed": false
   },
   "outputs": [
    {
     "name": "stdout",
     "output_type": "stream",
     "text": [
      "LATIN CAPITAL LETTER A\n"
     ]
    }
   ],
   "source": [
    "from unicodedata import name\n",
    "\n",
    "print(name(\"A\"))"
   ]
  },
  {
   "cell_type": "markdown",
   "metadata": {
    "collapsed": false
   },
   "source": [
    "如果有 name() 有第二个参数就找不到那个字符的时候返回的默认值"
   ]
  },
  {
   "cell_type": "code",
   "execution_count": 4,
   "metadata": {
    "ExecuteTime": {
     "end_time": "2023-07-15T01:11:11.135130Z",
     "start_time": "2023-07-15T01:11:11.131607Z"
    },
    "collapsed": false
   },
   "outputs": [
    {
     "name": "stdout",
     "output_type": "stream",
     "text": [
      "PILE OF POO\n"
     ]
    }
   ],
   "source": [
    "print(\n",
    "    name(\"💩\", \"Unknown\")\n",
    ")"
   ]
  },
  {
   "cell_type": "code",
   "execution_count": 7,
   "metadata": {},
   "outputs": [
    {
     "name": "stdout",
     "output_type": "stream",
     "text": [
      "{'¤', '®', '£', '¢', '÷', '©', '§', '¬', '°', '<', '¶', '%', '¥', 'µ', '=', '±', '$', '+', '>', '#', '×'}\n"
     ]
    }
   ],
   "source": [
    "demo: set = {chr(i) for i in range(32, 256) if 'SIGN' in name(chr(i),'')}  \n",
    "\n",
    "print(demo)"
   ]
  }
 ],
 "metadata": {
  "kernelspec": {
   "display_name": "Python 3",
   "language": "python",
   "name": "python3"
  },
  "language_info": {
   "codemirror_mode": {
    "name": "ipython",
    "version": 3
   },
   "file_extension": ".py",
   "mimetype": "text/x-python",
   "name": "python",
   "nbconvert_exporter": "python",
   "pygments_lexer": "ipython3",
   "version": "3.11.4"
  }
 },
 "nbformat": 4,
 "nbformat_minor": 0
}
