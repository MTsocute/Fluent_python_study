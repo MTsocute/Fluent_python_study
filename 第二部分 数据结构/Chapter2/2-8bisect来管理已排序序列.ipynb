{
 "cells": [
  {
   "cell_type": "markdown",
   "source": [
    "bisect 模块包含两个主要函数，bisect 和 insort，两个函数都利用二分查找算法来在有序\n",
    "序列中查找或插入元素"
   ],
   "metadata": {
    "collapsed": false
   }
  },
  {
   "cell_type": "markdown",
   "source": [
    "# 2.8.1 用bisect来搜索"
   ],
   "metadata": {
    "collapsed": false
   }
  },
  {
   "cell_type": "markdown",
   "source": [
    "## 2-17\n",
    "> 在有序序列中用 bisect 查找某个元素的插入位置"
   ],
   "metadata": {
    "collapsed": false
   }
  },
  {
   "cell_type": "code",
   "execution_count": 26,
   "outputs": [
    {
     "name": "stdout",
     "output_type": "stream",
     "text": [
      "DEMO: bisect_right\n",
      "haystack ->  1  4  5  6  8 12 15 20 21 23 23 26 29 30\n",
      "31 @    14   |  |  |  |  |  |  |  |  |  |  |  |  |  |31\n",
      "30 @    14   |  |  |  |  |  |  |  |  |  |  |  |  |  |30\n",
      "29 @    13   |  |  |  |  |  |  |  |  |  |  |  |  |29\n",
      "23 @    11   |  |  |  |  |  |  |  |  |  |  |23\n",
      "22 @     9   |  |  |  |  |  |  |  |  |22\n",
      "10 @     5   |  |  |  |  |10\n",
      " 8 @     5   |  |  |  |  |8 \n",
      " 5 @     3   |  |  |5 \n",
      " 2 @     1   |2 \n",
      " 1 @     1   |1 \n",
      " 0 @     0 0 \n"
     ]
    }
   ],
   "source": [
    "import bisect\n",
    "import sys\n",
    "\n",
    "HAYSTACK = [1, 4, 5, 6, 8, 12, 15, 20, 21, 23, 23, 26, 29, 30]\n",
    "NEEDLES = [0, 1, 2, 5, 8, 10, 22, 23, 29, 30, 31]\n",
    "\n",
    "ROW_FMT = '{0:2d} @ {1:5d} {2}{0:<2d}'\n",
    "\n",
    "\n",
    "def demo(bisect_fn):\n",
    "    for needle in reversed(NEEDLES):\n",
    "        position = bisect_fn(HAYSTACK, needle)  # 找到要插入的位置\n",
    "        offset = position * '  |'  # 根据所在位置，决定针的长度\n",
    "        print(ROW_FMT.format(needle, position, offset))\n",
    "\n",
    "\n",
    "if __name__ == '__main__':\n",
    "    # 根据参数，来使用不同的二分查找发，二分查找还会取一个变量名\n",
    "    if sys.argv[-1] == 'left':\n",
    "        bisect_fn = bisect.bisect_left\n",
    "    else:\n",
    "        bisect_fn = bisect.bisect\n",
    "\n",
    "    print('DEMO:', bisect_fn.__name__)\n",
    "    print('haystack ->', ' '.join('%2d' % n for n in HAYSTACK))\n",
    "    demo(bisect_fn)"
   ],
   "metadata": {
    "collapsed": false,
    "ExecuteTime": {
     "end_time": "2023-07-02T15:25:19.362527Z",
     "start_time": "2023-07-02T15:25:19.345050Z"
    }
   }
  },
  {
   "cell_type": "markdown",
   "source": [
    "## 2-18\n",
    "> 根据一个分数，找到它所对应的成绩"
   ],
   "metadata": {
    "collapsed": false
   }
  },
  {
   "cell_type": "code",
   "execution_count": 29,
   "outputs": [
    {
     "name": "stdout",
     "output_type": "stream",
     "text": [
      "0\n",
      "1\n",
      "2\n",
      "2\n",
      "3\n",
      "4\n",
      "4\n"
     ]
    },
    {
     "data": {
      "text/plain": "['F', 'D', 'C', 'C', 'B', 'A', 'A']"
     },
     "execution_count": 29,
     "metadata": {},
     "output_type": "execute_result"
    }
   ],
   "source": [
    "def grade(score, breakpoints=[60, 70, 80, 90], grades='FDCBA'):\n",
    "    # 如果匹配的位置有偏差会比较两个数，然后四舍五入比较，那选出相对的 index\n",
    "    i = bisect.bisect(breakpoints, score)\n",
    "    print(i)\n",
    "    return grades[i]\n",
    "\n",
    "[grade(score) for score in [33, 65, 77, 70, 89, 90, 100]]"
   ],
   "metadata": {
    "collapsed": false,
    "ExecuteTime": {
     "end_time": "2023-07-02T15:59:58.215947Z",
     "start_time": "2023-07-02T15:59:58.208633Z"
    }
   }
  },
  {
   "cell_type": "markdown",
   "source": [
    "> 从这里，你就会发现，哪怕是对不上的值，我们仍然可以获取相对的位置\n",
    "---"
   ],
   "metadata": {
    "collapsed": false
   }
  },
  {
   "cell_type": "markdown",
   "source": [
    "# 2.8.2 用bisect.insort插入新元素"
   ],
   "metadata": {
    "collapsed": false
   }
  },
  {
   "cell_type": "markdown",
   "source": [
    "## 2-19 insort 可以保持有序序列的顺序"
   ],
   "metadata": {
    "collapsed": false
   }
  },
  {
   "cell_type": "code",
   "execution_count": 44,
   "outputs": [
    {
     "name": "stdout",
     "output_type": "stream",
     "text": [
      " 2 -> [2]\n",
      " 6 -> [2, 6]\n",
      " 8 -> [2, 6, 8]\n",
      "11 -> [2, 6, 8, 11]\n",
      "12 -> [2, 6, 8, 11, 12]\n",
      " 1 -> [1, 2, 6, 8, 11, 12]\n",
      " 4 -> [1, 2, 4, 6, 8, 11, 12]\n"
     ]
    }
   ],
   "source": [
    "import bisect\n",
    "import random\n",
    "SIZE=7\n",
    "random.seed(1229)   # 随机种子\n",
    "my_list = []\n",
    "\n",
    "for i in range(SIZE):\n",
    "    new_item = random.randrange(SIZE*2)\n",
    "    bisect.insort(my_list, new_item)    # 然后插入进去对应位置\n",
    "    print('%2d ->' % new_item, my_list)"
   ],
   "metadata": {
    "collapsed": false,
    "ExecuteTime": {
     "end_time": "2023-07-02T16:40:14.574569Z",
     "start_time": "2023-07-02T16:40:14.540558Z"
    }
   }
  }
 ],
 "metadata": {
  "kernelspec": {
   "display_name": "Python 3",
   "language": "python",
   "name": "python3"
  },
  "language_info": {
   "codemirror_mode": {
    "name": "ipython",
    "version": 2
   },
   "file_extension": ".py",
   "mimetype": "text/x-python",
   "name": "python",
   "nbconvert_exporter": "python",
   "pygments_lexer": "ipython2",
   "version": "2.7.6"
  }
 },
 "nbformat": 4,
 "nbformat_minor": 0
}
