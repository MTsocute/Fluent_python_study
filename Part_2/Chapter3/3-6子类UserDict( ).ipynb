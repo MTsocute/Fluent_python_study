{
 "cells": [
  {
   "cell_type": "markdown",
   "source": [
    "# 3.6 子类化 UserDict( )\n",
    "> 这个类型就是为了创建自定义的映射继承的，相对 dict 好了很多"
   ],
   "metadata": {
    "collapsed": false
   }
  },
  {
   "cell_type": "markdown",
   "source": [
    "## 3-8 自定义的映射字典"
   ],
   "metadata": {
    "collapsed": false
   }
  },
  {
   "cell_type": "code",
   "execution_count": null,
   "outputs": [],
   "source": [
    "from collections import UserDict\n",
    "\n",
    "class MyDict(UserDict):\n",
    "\n",
    "    def __missing__(self, key):\n",
    "        if isinstance(key, str):\n",
    "            raise KeyError(key)\n",
    "        return self[str(key)]   # 等同于使用 self.__getitem__(self, key)\n",
    "\n",
    "    # in\n",
    "    def __contains__(self, key):\n",
    "        return str(key) in self.data\n",
    "\n",
    "    # [], 创建值的重构\n",
    "    # 不是字符串的键，也会被转换成字符串\n",
    "    def __setitem__(self, key, value):\n",
    "        # 注意这里的 data 其实就是存储数据的字典\n",
    "        self.data[str(key)] = value"
   ],
   "metadata": {
    "collapsed": false
   }
  }
 ],
 "metadata": {
  "kernelspec": {
   "display_name": "Python 3",
   "language": "python",
   "name": "python3"
  },
  "language_info": {
   "codemirror_mode": {
    "name": "ipython",
    "version": 2
   },
   "file_extension": ".py",
   "mimetype": "text/x-python",
   "name": "python",
   "nbconvert_exporter": "python",
   "pygments_lexer": "ipython2",
   "version": "2.7.6"
  }
 },
 "nbformat": 4,
 "nbformat_minor": 0
}
