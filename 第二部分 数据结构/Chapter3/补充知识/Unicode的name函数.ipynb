{
 "cells": [
  {
   "cell_type": "markdown",
   "source": [
    "# unicodedata 的 name() 函数返回字符的名称"
   ],
   "metadata": {
    "collapsed": false
   }
  },
  {
   "cell_type": "code",
   "execution_count": 1,
   "outputs": [
    {
     "name": "stdout",
     "output_type": "stream",
     "text": [
      "LATIN CAPITAL LETTER A\n"
     ]
    }
   ],
   "source": [
    "from unicodedata import name\n",
    "\n",
    "print(name(\"A\"))"
   ],
   "metadata": {
    "collapsed": false,
    "ExecuteTime": {
     "end_time": "2023-07-15T01:03:18.906355Z",
     "start_time": "2023-07-15T01:03:18.901763Z"
    }
   }
  },
  {
   "cell_type": "markdown",
   "source": [
    "如果有 name() 有第二个参数就找不到那个字符的时候返回的默认值"
   ],
   "metadata": {
    "collapsed": false
   }
  },
  {
   "cell_type": "code",
   "execution_count": 6,
   "outputs": [
    {
     "name": "stdout",
     "output_type": "stream",
     "text": [
      "PILE OF POO\n"
     ]
    }
   ],
   "source": [
    "print(\n",
    "    name(\"💩\", \"Unknown\")\n",
    ")"
   ],
   "metadata": {
    "collapsed": false,
    "ExecuteTime": {
     "end_time": "2023-07-15T01:11:11.135130Z",
     "start_time": "2023-07-15T01:11:11.131607Z"
    }
   }
  }
 ],
 "metadata": {
  "kernelspec": {
   "display_name": "Python 3",
   "language": "python",
   "name": "python3"
  },
  "language_info": {
   "codemirror_mode": {
    "name": "ipython",
    "version": 2
   },
   "file_extension": ".py",
   "mimetype": "text/x-python",
   "name": "python",
   "nbconvert_exporter": "python",
   "pygments_lexer": "ipython2",
   "version": "2.7.6"
  }
 },
 "nbformat": 4,
 "nbformat_minor": 0
}
