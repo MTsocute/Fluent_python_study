{
 "cells": [
  {
   "attachments": {},
   "cell_type": "markdown",
   "metadata": {},
   "source": [
    "# 2.2.1 列表递推和可读性"
   ]
  },
  {
   "attachments": {},
   "cell_type": "markdown",
   "metadata": {},
   "source": [
    "## ord() 和 chr()\n",
    "> ord()是一个内置函数，用于返回给定字符的Unicode代码点（整数表示）<br>\n",
    "> 与ord()函数对应的是chr()函数，它接受一个整数参数（Unicode代码点）并返回对应的字符"
   ]
  },
  {
   "cell_type": "code",
   "execution_count": 2,
   "metadata": {},
   "outputs": [
    {
     "data": {
      "text/plain": [
       "38"
      ]
     },
     "execution_count": 2,
     "metadata": {},
     "output_type": "execute_result"
    }
   ],
   "source": [
    "\"\"\" 把一个字符变成 Unicode \"\"\"\n",
    "special_code = '&'\n",
    "\n",
    "unicode_ts = ord(special_code)\n",
    "\n",
    "unicode_ts  # Unicode 对应的代码点"
   ]
  },
  {
   "attachments": {},
   "cell_type": "markdown",
   "metadata": {},
   "source": [
    "转换 Unicode 代码点为对应的字符"
   ]
  },
  {
   "cell_type": "code",
   "execution_count": 6,
   "metadata": {},
   "outputs": [
    {
     "data": {
      "text/plain": [
       "'0'"
      ]
     },
     "execution_count": 6,
     "metadata": {},
     "output_type": "execute_result"
    }
   ],
   "source": [
    "chr(48)"
   ]
  },
  {
   "attachments": {},
   "cell_type": "markdown",
   "metadata": {},
   "source": [
    "## 2-1 普通 for 生成列表"
   ]
  },
  {
   "cell_type": "code",
   "execution_count": 7,
   "metadata": {},
   "outputs": [
    {
     "data": {
      "text/plain": [
       "[36, 162, 163, 165, 8364, 164]"
      ]
     },
     "execution_count": 7,
     "metadata": {},
     "output_type": "execute_result"
    }
   ],
   "source": [
    "symbols = '$¢£¥€¤'\n",
    "codes = []\n",
    "\n",
    "for symbol in symbols:\n",
    "    codes.append(ord(symbol))\n",
    "\n",
    "codes"
   ]
  },
  {
   "attachments": {},
   "cell_type": "markdown",
   "metadata": {},
   "source": [
    "## 2-2 列表推导"
   ]
  },
  {
   "cell_type": "code",
   "execution_count": 8,
   "metadata": {},
   "outputs": [
    {
     "data": {
      "text/plain": [
       "[36, 162, 163, 165, 8364, 164]"
      ]
     },
     "execution_count": 8,
     "metadata": {},
     "output_type": "execute_result"
    }
   ],
   "source": [
    "symbols = '$¢£¥€¤'\n",
    "codes = [ord(symbol) for symbol in symbols]\n",
    "\n",
    "codes"
   ]
  },
  {
   "attachments": {},
   "cell_type": "markdown",
   "metadata": {},
   "source": [
    "> 通常的原则是，只用列表推导来创建新的列表，并且尽量保持简短<br>\n",
    "> 如序列构成的数组果列表推导的代码超过了两行，你可能就要考虑是不是得用 for 循环重写了\n",
    "---"
   ]
  },
  {
   "attachments": {},
   "cell_type": "markdown",
   "metadata": {},
   "source": [
    "<br>"
   ]
  },
  {
   "attachments": {},
   "cell_type": "markdown",
   "metadata": {},
   "source": [
    "# 2.2.2 列表推导同 filter和map 的比较"
   ]
  },
  {
   "attachments": {},
   "cell_type": "markdown",
   "metadata": {},
   "source": [
    "## 2-3 列表递推"
   ]
  },
  {
   "cell_type": "code",
   "execution_count": 9,
   "metadata": {},
   "outputs": [
    {
     "data": {
      "text/plain": [
       "[162, 163, 165, 8364, 164]"
      ]
     },
     "execution_count": 9,
     "metadata": {},
     "output_type": "execute_result"
    }
   ],
   "source": [
    "symbols = '$¢£¥€¤'\n",
    "beyond_ascii: list = [ord(s) for s in symbols if ord(s) > 127]\n",
    "\n",
    "beyond_ascii"
   ]
  },
  {
   "attachments": {},
   "cell_type": "markdown",
   "metadata": {},
   "source": [
    "## 2-4 使用 filter map 实现上面同理操作 "
   ]
  },
  {
   "cell_type": "code",
   "execution_count": 10,
   "metadata": {},
   "outputs": [
    {
     "data": {
      "text/plain": [
       "[162, 163, 165, 8364, 164]"
      ]
     },
     "execution_count": 10,
     "metadata": {},
     "output_type": "execute_result"
    }
   ],
   "source": [
    "beyond_ascii = list(filter(lambda c: c > 127, map(ord, symbols)))\n",
    "\n",
    "beyond_ascii"
   ]
  },
  {
   "attachments": {},
   "cell_type": "markdown",
   "metadata": {},
   "source": [
    "> 阅读下面认识部分，就可以读懂这个代码了<br>\n",
    "> 这里我假设你已经阅读了下面认识函数的部分，那么我们就来解读这里做了什么吧<br>\n",
    "> ord() 就是让 symbols 里面所有的字符串都变成 Unicode 代码点新组成一个新的可迭代器<br>\n",
    "> 然后 filter() 函数会根据 lambda 规则，选出所有 > 127 的 Unicode 成为一个新的可迭代器<br>\n",
    "> 最后我们使用 list() 把可迭代器转换成一个列表，里面存储所有Unicode代码点 > 127 的字符"
   ]
  },
  {
   "cell_type": "code",
   "execution_count": 23,
   "metadata": {},
   "outputs": [
    {
     "data": {
      "text/plain": [
       "'¢£¥€¤'"
      ]
     },
     "execution_count": 23,
     "metadata": {},
     "output_type": "execute_result"
    }
   ],
   "source": [
    "ls = [chr(x) for x in beyond_ascii]\n",
    "\n",
    "''.join(ls)  # 被筛选后的字符组合"
   ]
  },
  {
   "attachments": {},
   "cell_type": "markdown",
   "metadata": {},
   "source": [
    "###  2-4-1 认识 lambda"
   ]
  },
  {
   "cell_type": "code",
   "execution_count": null,
   "metadata": {},
   "outputs": [],
   "source": [
    "# 函数原型\n",
    "lambda arguments: expression"
   ]
  },
  {
   "cell_type": "code",
   "execution_count": 11,
   "metadata": {},
   "outputs": [
    {
     "name": "stdout",
     "output_type": "stream",
     "text": [
      "7\n"
     ]
    }
   ],
   "source": [
    "# 定义一个简单的 lambda 表达式\n",
    "addition = lambda x, y: x + y\n",
    "\n",
    "# 使用 lambda 表达式调用函数\n",
    "result = addition(3, 4)\n",
    "print(result)  # 输出: 7"
   ]
  },
  {
   "attachments": {},
   "cell_type": "markdown",
   "metadata": {},
   "source": [
    "> 1. 这么看来 lambda 就是一个接受参数和组合参数的表达式 <br>\n",
    "> 2. lambda 参数 : 表达式 <br>\n",
    "> 3. 返回值就是表达式的结果"
   ]
  },
  {
   "attachments": {},
   "cell_type": "markdown",
   "metadata": {},
   "source": [
    "### 2-4-2 认识 map()"
   ]
  },
  {
   "cell_type": "code",
   "execution_count": null,
   "metadata": {},
   "outputs": [],
   "source": [
    "# 函数原型\n",
    "map(function, iterable)"
   ]
  },
  {
   "cell_type": "code",
   "execution_count": 14,
   "metadata": {},
   "outputs": [
    {
     "name": "stdout",
     "output_type": "stream",
     "text": [
      "<map object at 0x1193d6350>\n",
      "[1, 4, 9, 16, 25]\n"
     ]
    }
   ],
   "source": [
    "# 定义一个函数\n",
    "def square(x):\n",
    "    return x ** 2\n",
    "\n",
    "# 应用 map() 函数，迭代对象的元素按照这个映射方法产生一个新的迭代对象\n",
    "numbers = [1, 2, 3, 4, 5]\n",
    "squared_numbers = map(square, numbers)  # 返回 map 对象\n",
    "\n",
    "# 查看 map() 对象\n",
    "print(squared_numbers)\n",
    "\n",
    "# 打印结果\n",
    "print(list(squared_numbers))  # 输出: [1, 4, 9, 16, 25]"
   ]
  },
  {
   "attachments": {},
   "cell_type": "markdown",
   "metadata": {},
   "source": [
    "> map() 是一个内置函数，用于对可迭代对象中的每个元素应用一个指定的函数，并返回结果构成的新迭代器<br>\n",
    "> 新迭代器就是 map 对象，这个对象是可迭代的"
   ]
  },
  {
   "attachments": {},
   "cell_type": "markdown",
   "metadata": {},
   "source": [
    "### 2-4-3 认识 filter()"
   ]
  },
  {
   "cell_type": "code",
   "execution_count": null,
   "metadata": {},
   "outputs": [],
   "source": [
    "# 函数原型\n",
    "filter(function, iterable)"
   ]
  },
  {
   "cell_type": "code",
   "execution_count": 17,
   "metadata": {},
   "outputs": [
    {
     "name": "stdout",
     "output_type": "stream",
     "text": [
      "<filter object at 0x119612a10>\n",
      "[2, 4, 6]\n"
     ]
    }
   ],
   "source": [
    "# 定义一个函数\n",
    "def is_even(x):\n",
    "    return x % 2 == 0\n",
    "\n",
    "# 应用 filter() 函数\n",
    "numbers = [1, 2, 3, 4, 5, 6]\n",
    "even_numbers = filter(is_even, numbers)     # 返回 filter 对象\n",
    "\n",
    "# 打印 filter 对象\n",
    "print(even_numbers)\n",
    "\n",
    "# 打印结果\n",
    "print(list(even_numbers))  # 输出: [2, 4, 6]"
   ]
  },
  {
   "attachments": {},
   "cell_type": "markdown",
   "metadata": {},
   "source": [
    "> filter() 是一个内置函数，用于根据指定的条件过滤可迭代对象中的元素，并返回符合条件的元素构成的新迭代器<br>\n",
    "> filter 是可以用于迭代的"
   ]
  },
  {
   "attachments": {},
   "cell_type": "markdown",
   "metadata": {},
   "source": [
    "### 2-4-4 labda 和 map() filter() 的结合\n",
    "> 我们可以看到 lambda 就是一个匿名函数，指定简单的规则，而 map() filter() 两个函数都是对迭代对象制定规则，然后按照这个规则进行过滤或者新映射，那么我们不一定要写一个完整的函数，我们可以使用 lambda 写简单的函数<br>\n",
    "\n",
    "== 现在就让我们使用你们函数把上面几个案例重写一下 =="
   ]
  },
  {
   "cell_type": "code",
   "execution_count": 18,
   "metadata": {},
   "outputs": [
    {
     "name": "stdout",
     "output_type": "stream",
     "text": [
      "[1, 4, 9, 16, 25]\n"
     ]
    }
   ],
   "source": [
    "numbers = [1, 2, 3, 4, 5]\n",
    "squared_numbers = map(lambda x : x**2, numbers)\n",
    "\n",
    "print(list(squared_numbers))  # 输出: [1, 4, 9, 16, 25]"
   ]
  },
  {
   "cell_type": "code",
   "execution_count": 19,
   "metadata": {},
   "outputs": [
    {
     "name": "stdout",
     "output_type": "stream",
     "text": [
      "[2, 4, 6]\n"
     ]
    }
   ],
   "source": [
    "numbers = [1, 2, 3, 4, 5, 6]\n",
    "even_numbers = filter(lambda x : x % 2 == 0, numbers)\n",
    "\n",
    "print(list(even_numbers))  # 输出: [2, 4, 6]"
   ]
  },
  {
   "attachments": {},
   "cell_type": "markdown",
   "metadata": {},
   "source": [
    "> 是不是发现，有些规则很简单的函数就是 lambda 来的好，可读性会高很多，但是如果规则比较复杂，那还是请用函数实现\n",
    "---\n",
    "<br>"
   ]
  },
  {
   "attachments": {},
   "cell_type": "markdown",
   "metadata": {},
   "source": [
    "# 2.2.3 列表递推实现笛卡尔积"
   ]
  },
  {
   "cell_type": "code",
   "execution_count": 24,
   "metadata": {},
   "outputs": [
    {
     "data": {
      "image/png": "[encoded data removed]",
      "text/plain": [
       "<PIL.PngImagePlugin.PngImageFile image mode=RGBA size=733x391>"
      ]
     },
     "execution_count": 24,
     "metadata": {},
     "output_type": "execute_result"
    }
   ],
   "source": [
    "from PIL import Image as img\n",
    "\n",
    "img.open('img/笛卡尔积.png')"
   ]
  },
  {
   "attachments": {},
   "cell_type": "markdown",
   "metadata": {},
   "source": [
    "> 笛卡尔积的长度其实就是矩阵的乘法：<br>\n",
    "> $R_{3\\times1} · S_{1\\times4} = (R\\times S)_{3\\times4}$ <br>\n",
    "> 所以这个数组的长度就是 12 "
   ]
  },
  {
   "attachments": {},
   "cell_type": "markdown",
   "metadata": {},
   "source": [
    "> 如果你需要一个列表，列表里是 3 种不同尺寸的 T 恤衫，每个尺寸都有 2 个颜色，如何使用笛卡尔积实现呢"
   ]
  },
  {
   "cell_type": "code",
   "execution_count": 25,
   "metadata": {},
   "outputs": [
    {
     "data": {
      "text/plain": [
       "[cloth(color='white', size='B'),\n",
       " cloth(color='white', size='M'),\n",
       " cloth(color='white', size='S'),\n",
       " cloth(color='black', size='B'),\n",
       " cloth(color='black', size='M'),\n",
       " cloth(color='black', size='S')]"
      ]
     },
     "execution_count": 25,
     "metadata": {},
     "output_type": "execute_result"
    }
   ],
   "source": [
    "from collections import namedtuple\n",
    "\n",
    "colors = ['white', 'black']\n",
    "sizes = ['B', 'M', 'S']\n",
    "\n",
    "cloth = namedtuple('cloth', ['color', 'size'])\n",
    "\n",
    "clothes = [cloth(color, size) \n",
    "           for color in colors\n",
    "           for size in sizes]\n",
    "\n",
    "clothes"
   ]
  },
  {
   "cell_type": "markdown",
   "source": [
    "# 2.2.4 生成器表达式\n",
    "> 生成器表达式的好处在于它以延迟方式生成元素，只在需要时逐个生成，不会一次性生成所有元素。<br>\n",
    "> 这在处理大型数据集或需要逐个处理结果的情况下很有用，因为它可以提高效率并减少内存消耗"
   ],
   "metadata": {
    "collapsed": false
   }
  },
  {
   "cell_type": "markdown",
   "source": [
    "## 2-5 使用生成器表达式初始化元组和数组"
   ],
   "metadata": {
    "collapsed": false
   }
  },
  {
   "cell_type": "code",
   "execution_count": 1,
   "outputs": [
    {
     "data": {
      "text/plain": "(36, 162, 163, 165, 8364, 164)"
     },
     "execution_count": 1,
     "metadata": {},
     "output_type": "execute_result"
    }
   ],
   "source": [
    "symbols = '$¢£¥€¤'\n",
    "tuple(ord(symbol) for symbol in symbols)    # 生成器表达式"
   ],
   "metadata": {
    "collapsed": false,
    "ExecuteTime": {
     "end_time": "2023-06-28T10:32:40.502119Z",
     "start_time": "2023-06-28T10:32:40.352420Z"
    }
   }
  },
  {
   "cell_type": "markdown",
   "source": [
    "### 认识 array 类型\n",
    "> array 创建一个数组对象"
   ],
   "metadata": {
    "collapsed": false
   }
  },
  {
   "cell_type": "code",
   "execution_count": null,
   "outputs": [],
   "source": [
    "# 函数声明\n",
    "array.array(typecode, initializer)"
   ],
   "metadata": {
    "collapsed": false
   }
  },
  {
   "cell_type": "markdown",
   "source": [
    "1. typecode 是用于指定数组中元素的类型的一个字符代码。它定义了数组中存储的数据类型：\n",
    "<img src=\"img/arr_typecode.png\">\n",
    "\n",
    "2. initializer 是一个可选参数，用于初始化数组的元素。它可以是一个可迭代对象（如列表或元组），也可以是一个字符串"
   ],
   "metadata": {
    "collapsed": false
   }
  },
  {
   "cell_type": "code",
   "execution_count": 2,
   "outputs": [
    {
     "data": {
      "text/plain": "array('I', [36, 162, 163, 165, 8364, 164])"
     },
     "execution_count": 2,
     "metadata": {},
     "output_type": "execute_result"
    }
   ],
   "source": [
    "import array\n",
    "array.array('I', (ord(symbol) for symbol in symbols))   # 生成器表达式"
   ],
   "metadata": {
    "collapsed": false,
    "ExecuteTime": {
     "end_time": "2023-06-28T10:36:14.849803Z",
     "start_time": "2023-06-28T10:36:14.845611Z"
    }
   }
  },
  {
   "cell_type": "markdown",
   "source": [
    "### 2-6 使用生成器表达式完成笛卡尔积"
   ],
   "metadata": {
    "collapsed": false
   }
  },
  {
   "cell_type": "code",
   "execution_count": 3,
   "outputs": [
    {
     "name": "stdout",
     "output_type": "stream",
     "text": [
      "white B\n",
      "white M\n",
      "white S\n",
      "black B\n",
      "black M\n",
      "black S\n"
     ]
    }
   ],
   "source": [
    "colors = ['white', 'black']\n",
    "sizes = ['B', 'M', 'S']\n",
    "\n",
    "# 生成器表达式\n",
    "for tShirt in (f'{color} {size}' for color in colors for size in sizes):\n",
    "    print(tShirt)"
   ],
   "metadata": {
    "collapsed": false,
    "ExecuteTime": {
     "end_time": "2023-06-28T10:52:18.439143Z",
     "start_time": "2023-06-28T10:52:18.431447Z"
    }
   }
  },
  {
   "cell_type": "markdown",
   "source": [
    "> 生成器表达式逐个产出元素，从来不会一次性产出一个含有 6 个 T 恤样式的列表 <br>\n",
    "> 当使用生成器表达式时，每次迭代都会计算并生成下一个元素，然后在内存中丢弃之前的元素 <br>\n",
    "> 这样可以避免一次性生成大量元素所带来的内存消耗 <br>"
   ],
   "metadata": {
    "collapsed": false
   }
  }
 ],
 "metadata": {
  "kernelspec": {
   "display_name": "Python 3",
   "language": "python",
   "name": "python3"
  },
  "language_info": {
   "codemirror_mode": {
    "name": "ipython",
    "version": 3
   },
   "file_extension": ".py",
   "mimetype": "text/x-python",
   "name": "python",
   "nbconvert_exporter": "python",
   "pygments_lexer": "ipython3",
   "version": "3.11.4"
  },
  "orig_nbformat": 4
 },
 "nbformat": 4,
 "nbformat_minor": 2
}
