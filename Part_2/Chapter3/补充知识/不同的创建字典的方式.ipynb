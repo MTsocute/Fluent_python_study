{
 "cells": [
  {
   "cell_type": "markdown",
   "source": [
    "# 不同的方法创建字典对象"
   ],
   "metadata": {
    "collapsed": false
   }
  },
  {
   "cell_type": "code",
   "execution_count": 1,
   "outputs": [
    {
     "data": {
      "text/plain": "{'one': 1, 'two': 2, 'three': 3, 'haha': 4}"
     },
     "execution_count": 1,
     "metadata": {},
     "output_type": "execute_result"
    }
   ],
   "source": [
    "a = dict(one=1, two=2, three=3, haha=4)\n",
    "a"
   ],
   "metadata": {
    "collapsed": false
   }
  },
  {
   "cell_type": "code",
   "execution_count": 3,
   "outputs": [
    {
     "data": {
      "text/plain": "{'one': 1, 'two': 2, 'three': 3, 'haha': 4}"
     },
     "execution_count": 3,
     "metadata": {},
     "output_type": "execute_result"
    }
   ],
   "source": [
    "b = {\"one\":1,  \"two\":2, \"three\":3, \"haha\":4}\n",
    "b"
   ],
   "metadata": {
    "collapsed": false
   }
  },
  {
   "cell_type": "code",
   "execution_count": 4,
   "outputs": [
    {
     "data": {
      "text/plain": "{'one': 1, 'two': 2, 'three': 3}"
     },
     "execution_count": 4,
     "metadata": {},
     "output_type": "execute_result"
    }
   ],
   "source": [
    "# zip() 创建元组组合，转换成字典\n",
    "c = dict(zip([\"one\", \"two\", \"three\"], [1, 2, 3]))\n",
    "c"
   ],
   "metadata": {
    "collapsed": false
   }
  },
  {
   "cell_type": "code",
   "execution_count": 1,
   "outputs": [
    {
     "data": {
      "text/plain": "{'two': 2, 'one': 1}"
     },
     "execution_count": 1,
     "metadata": {},
     "output_type": "execute_result"
    }
   ],
   "source": [
    "# 元组列表转换成字典\n",
    "d = dict([(\"two\", 2), (\"one\", 1)])\n",
    "d"
   ],
   "metadata": {
    "collapsed": false,
    "ExecuteTime": {
     "end_time": "2023-07-11T16:58:56.655235Z",
     "start_time": "2023-07-11T16:58:56.642592Z"
    }
   }
  },
  {
   "cell_type": "markdown",
   "source": [
    "# zip( ) 函数的使用\n",
    "> zip( ) 是一个内置函数，用于将多个可迭代对象（例如列表、元组等）组合成一个元组序列<br>\n",
    "> 其中每个元组包含来自每个可迭代对象的相应元素，可迭代对象长度不相等的时候，就按短的那个组合<br>\n",
    "> 组合的方式，我们就简单的理解为按列取"
   ],
   "metadata": {
    "collapsed": false
   }
  },
  {
   "cell_type": "code",
   "execution_count": 5,
   "outputs": [
    {
     "name": "stdout",
     "output_type": "stream",
     "text": [
      "[(1, 'a', 'John'), (2, 'b', 'Alice'), (3, 'c', 'Bob')]\n"
     ]
    }
   ],
   "source": [
    "numbers = [1, 2, 3]\n",
    "letters = ['a', 'b', 'c']\n",
    "names = ('John', 'Alice', 'Bob')\n",
    "\n",
    "# 将多个可迭代对象组合成元组序列\n",
    "result = zip(numbers, letters, names)\n",
    "print(list(result))"
   ],
   "metadata": {
    "collapsed": false
   }
  },
  {
   "cell_type": "markdown",
   "source": [
    "### 结合循环使用，同时迭代两个对象的内容"
   ],
   "metadata": {
    "collapsed": false
   }
  },
  {
   "cell_type": "code",
   "execution_count": 7,
   "outputs": [
    {
     "name": "stdout",
     "output_type": "stream",
     "text": [
      "1 a\n",
      "2 b\n"
     ]
    }
   ],
   "source": [
    "# 长度不想等的时候，就按照短的来组合\n",
    "a = [1, 2, 3]\n",
    "b = ['a', 'b']\n",
    "\n",
    "# 可以与循环结合使用\n",
    "for number, letter in zip(a, b):\n",
    "    print(number, letter)"
   ],
   "metadata": {
    "collapsed": false
   }
  },
  {
   "cell_type": "markdown",
   "source": [
    "### 拆分已经组合好的元组序列"
   ],
   "metadata": {
    "collapsed": false
   }
  },
  {
   "cell_type": "code",
   "execution_count": 8,
   "outputs": [
    {
     "name": "stdout",
     "output_type": "stream",
     "text": [
      "[(1, 2, 3), ('a', 'b', 'c')]\n",
      "(1, 2, 3)\n",
      "('a', 'b', 'c')\n"
     ]
    }
   ],
   "source": [
    "# 拆分已组合的元组序列\n",
    "combined = [(1, 'a'), (2, 'b'), (3, 'c')]\n",
    "\n",
    "print(list(zip(*combined)))  # 拆分成多个，然后组合成一个\n",
    "\n",
    "numbers, letters = zip(*combined)\n",
    "print(numbers)  # 输出 (1, 2, 3)\n",
    "print(letters)  # 输出 ('a', 'b', 'c')"
   ],
   "metadata": {
    "collapsed": false,
    "ExecuteTime": {
     "end_time": "2023-07-10T21:34:18.387015Z",
     "start_time": "2023-07-10T21:34:18.366821Z"
    }
   }
  },
  {
   "cell_type": "code",
   "execution_count": 6,
   "outputs": [
    {
     "name": "stdout",
     "output_type": "stream",
     "text": [
      "0 1 2 3\n"
     ]
    }
   ],
   "source": [
    "ls = [i for i in range(4)]\n",
    "print(*ls)  # 列表也是可以用 * 来拆分的"
   ],
   "metadata": {
    "collapsed": false,
    "ExecuteTime": {
     "end_time": "2023-07-10T21:32:07.738792Z",
     "start_time": "2023-07-10T21:32:07.727897Z"
    }
   }
  }
 ],
 "metadata": {
  "kernelspec": {
   "display_name": "Python 3",
   "language": "python",
   "name": "python3"
  },
  "language_info": {
   "codemirror_mode": {
    "name": "ipython",
    "version": 2
   },
   "file_extension": ".py",
   "mimetype": "text/x-python",
   "name": "python",
   "nbconvert_exporter": "python",
   "pygments_lexer": "ipython2",
   "version": "2.7.6"
  }
 },
 "nbformat": 4,
 "nbformat_minor": 0
}
