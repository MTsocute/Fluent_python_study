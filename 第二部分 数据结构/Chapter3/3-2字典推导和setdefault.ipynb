{
 "cells": [
  {
   "cell_type": "markdown",
   "source": [
    "# 字典推导（Dict Comprehension）"
   ],
   "metadata": {
    "collapsed": false
   }
  },
  {
   "cell_type": "code",
   "execution_count": 10,
   "outputs": [
    {
     "data": {
      "text/plain": "{'China': 86,\n 'India': 91,\n 'United States': 1,\n 'Indonesia': 62,\n 'Brazil': 55,\n 'Pakistan': 92,\n 'Bangladesh': 880,\n 'Nigeria': 234,\n 'Russia': 7,\n 'Japan': 81}"
     },
     "execution_count": 10,
     "metadata": {},
     "output_type": "execute_result"
    }
   ],
   "source": [
    "DIAL_CODES = [\n",
    "    (86, 'China'),\n",
    "    (91, 'India'),\n",
    "    (1, 'United States'),\n",
    "    (62, 'Indonesia'),\n",
    "    (55, 'Brazil'),\n",
    "    (92, 'Pakistan'),\n",
    "    (880, 'Bangladesh'),\n",
    "    (234, 'Nigeria'),\n",
    "    (7, 'Russia'),\n",
    "    (81, 'Japan'),\n",
    "]\n",
    "\n",
    "# 列表递推创建字典\n",
    "country_code = {country: code for code, country in DIAL_CODES}\n",
    "\n",
    "country_code"
   ],
   "metadata": {
    "collapsed": false,
    "ExecuteTime": {
     "end_time": "2023-07-10T21:42:46.206617Z",
     "start_time": "2023-07-10T21:42:46.203789Z"
    }
   }
  },
  {
   "cell_type": "markdown",
   "source": [
    "## 1. 字典递推顺便再进行筛选"
   ],
   "metadata": {
    "collapsed": false
   }
  },
  {
   "cell_type": "markdown",
   "source": [
    "### 1-1. 使用 lambda 进行筛选"
   ],
   "metadata": {
    "collapsed": false
   }
  },
  {
   "cell_type": "code",
   "execution_count": 13,
   "outputs": [
    {
     "name": "stdout",
     "output_type": "stream",
     "text": [
      "[('China', 86), ('India', 91), ('United States', 1), ('Indonesia', 62), ('Brazil', 55), ('Pakistan', 92), ('Bangladesh', 880), ('Nigeria', 234), ('Russia', 7), ('Japan', 81)]\n"
     ]
    }
   ],
   "source": [
    "print(list(country_code.items()))"
   ],
   "metadata": {
    "collapsed": false,
    "ExecuteTime": {
     "end_time": "2023-07-10T21:52:23.198252Z",
     "start_time": "2023-07-10T21:52:23.189719Z"
    }
   }
  },
  {
   "cell_type": "code",
   "execution_count": 19,
   "outputs": [
    {
     "data": {
      "text/plain": "{1: 'United States', 62: 'Indonesia', 55: 'Brazil', 7: 'Russia'}"
     },
     "execution_count": 19,
     "metadata": {},
     "output_type": "execute_result"
    }
   ],
   "source": [
    "country_code_2 = { code: country\n",
    "                  for country, code in filter(lambda x: x[1] < 66, list(country_code.items())) }\n",
    "\n",
    "country_code_2"
   ],
   "metadata": {
    "collapsed": false,
    "ExecuteTime": {
     "end_time": "2023-07-10T21:57:58.443493Z",
     "start_time": "2023-07-10T21:57:58.430646Z"
    }
   }
  },
  {
   "cell_type": "markdown",
   "source": [
    "### 1-2. 字典递推并且使用 if 语句"
   ],
   "metadata": {
    "collapsed": false
   }
  },
  {
   "cell_type": "code",
   "execution_count": 18,
   "outputs": [
    {
     "data": {
      "text/plain": "{1: 'United States', 62: 'Indonesia', 55: 'Brazil', 7: 'Russia'}"
     },
     "execution_count": 18,
     "metadata": {},
     "output_type": "execute_result"
    }
   ],
   "source": [
    "country_code_3 = {\n",
    "    code: country\n",
    "      for country, code in country_code.items()\n",
    "      if code < 66\n",
    "   }\n",
    "\n",
    "country_code_3"
   ],
   "metadata": {
    "collapsed": false,
    "ExecuteTime": {
     "end_time": "2023-07-10T21:57:29.462979Z",
     "start_time": "2023-07-10T21:57:29.449709Z"
    }
   }
  },
  {
   "cell_type": "markdown",
   "source": [
    "# 字典的 setdefault(key, default) 方法"
   ],
   "metadata": {
    "collapsed": false
   }
  },
  {
   "cell_type": "code",
   "execution_count": 20,
   "outputs": [
    {
     "name": "stdout",
     "output_type": "stream",
     "text": [
      "Alice\n",
      "Unknown\n",
      "{'name': 'Alice', 'age': 25, 'city': 'Unknown'}\n"
     ]
    }
   ],
   "source": [
    "my_dict = {'name': 'Alice', 'age': 25}\n",
    "\n",
    "# 获取 'name' 键的值\n",
    "name = my_dict.setdefault('name', 'Unknown')\n",
    "print(name)  # 输出 'Alice'\n",
    "\n",
    "# 获取 'city' 键的值，由于该键不存在，设置默认值为 'Unknown'\n",
    "city = my_dict.setdefault('city', 'Unknown')\n",
    "print(city)  # 输出 'Unknown'\n",
    "\n",
    "print(my_dict)  # 输出 {'name': 'Alice', 'age': 25, 'city': 'Unknown'}"
   ],
   "metadata": {
    "collapsed": false,
    "ExecuteTime": {
     "end_time": "2023-07-10T22:46:15.290618Z",
     "start_time": "2023-07-10T22:46:15.289340Z"
    }
   }
  }
 ],
 "metadata": {
  "kernelspec": {
   "display_name": "Python 3",
   "language": "python",
   "name": "python3"
  },
  "language_info": {
   "codemirror_mode": {
    "name": "ipython",
    "version": 2
   },
   "file_extension": ".py",
   "mimetype": "text/x-python",
   "name": "python",
   "nbconvert_exporter": "python",
   "pygments_lexer": "ipython2",
   "version": "2.7.6"
  }
 },
 "nbformat": 4,
 "nbformat_minor": 0
}
