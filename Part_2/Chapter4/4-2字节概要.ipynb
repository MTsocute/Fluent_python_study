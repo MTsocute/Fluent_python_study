{
 "cells": [
  {
   "cell_type": "markdown",
   "metadata": {},
   "source": [
    "# 4.2 字节概要"
   ]
  },
  {
   "cell_type": "markdown",
   "metadata": {},
   "source": [
    "## 4.2.1 bytes 或 bytearray 对象"
   ]
  },
  {
   "cell_type": "code",
   "execution_count": 10,
   "metadata": {},
   "outputs": [
    {
     "name": "stdout",
     "output_type": "stream",
     "text": [
      "b'caf\\xc3\\xa9'\n",
      "99\n",
      "b'c'\n"
     ]
    }
   ],
   "source": [
    "bin_data = bytes(\"café\", encoding=\"utf8\")\n",
    "\n",
    "print(bin_data)\n",
    "\n",
    "print(bin_data[0])  # 返回的数据还是 0~255 内的值\n",
    "\n",
    "print(bin_data[:1]) # 切片的操作是 bytes 对象"
   ]
  },
  {
   "cell_type": "markdown",
   "metadata": {},
   "source": [
    "> bytearray 没有字面值，所以返回还会是自己"
   ]
  },
  {
   "cell_type": "code",
   "execution_count": 13,
   "metadata": {},
   "outputs": [
    {
     "name": "stdout",
     "output_type": "stream",
     "text": [
      "bytearray(b'caf\\xc3\\xa9')\n",
      "bytearray(b'\\xa9')\n"
     ]
    }
   ],
   "source": [
    "bin_arr = bytearray(bin_data)\n",
    "\n",
    "print(bin_arr)\n",
    "\n",
    "print(bin_arr[-1:])"
   ]
  },
  {
   "cell_type": "markdown",
   "metadata": {},
   "source": [
    "能在 ASCII 表示范围之内的，编码后的字节序列都是看的懂的，反之不然\n",
    "\n",
    "---"
   ]
  },
  {
   "cell_type": "markdown",
   "metadata": {},
   "source": [
    "### 示例 4-3 使用数组中的原始数据初始化 bytes 对象"
   ]
  },
  {
   "cell_type": "code",
   "execution_count": 17,
   "metadata": {},
   "outputs": [
    {
     "name": "stdout",
     "output_type": "stream",
     "text": [
      "10\n"
     ]
    },
    {
     "data": {
      "text/plain": [
       "b'\\xfe\\xff\\xff\\xff\\x00\\x00\\x01\\x00\\x02\\x00'"
      ]
     },
     "execution_count": 17,
     "metadata": {},
     "output_type": "execute_result"
    }
   ],
   "source": [
    "import array\n",
    "\n",
    "numbers = array.array('h', [-2, -1, 0, 1, 2]) \n",
    "\n",
    "octets = bytes(numbers)\n",
    "\n",
    "print(len(octets))\n",
    "\n",
    "octets  # 表示5个小数生成的10个字节序列"
   ]
  },
  {
   "cell_type": "markdown",
   "metadata": {},
   "source": [
    "## 4.2.2 结构体和内存视图"
   ]
  },
  {
   "cell_type": "code",
   "execution_count": 37,
   "metadata": {},
   "outputs": [
    {
     "name": "stdout",
     "output_type": "stream",
     "text": [
      "b'\\xff\\xd8\\xff\\xe0\\x00\\x10JFIF'\n"
     ]
    },
    {
     "data": {
      "text/plain": [
       "(b'\\xff\\xd8\\xff', b'\\xe0\\x00\\x10', 17994, 17993)"
      ]
     },
     "execution_count": 37,
     "metadata": {},
     "output_type": "execute_result"
    }
   ],
   "source": [
    "import struct\n",
    "\n",
    "\"\"\"\n",
    "    < : 小字节序\n",
    "    3s3s: 取两个 三字节序列\n",
    "    HH: 取两个16位二进制整数\n",
    "\"\"\"\n",
    "fmt = '<3s3sHH'\n",
    "\n",
    "with open('./img/punch.jpeg', 'rb') as fp:\n",
    "    img = memoryview(fp.read())\n",
    "\n",
    "header = img[:10]\n",
    "\n",
    "print(bytes(header))\n",
    "\n",
    "# 拆解 memoryview() 元组的内容 --> 包含类型，版本宽度和高度\n",
    "struct.unpack(fmt, header)"
   ]
  }
 ],
 "metadata": {
  "kernelspec": {
   "display_name": "Python 3",
   "language": "python",
   "name": "python3"
  },
  "language_info": {
   "codemirror_mode": {
    "name": "ipython",
    "version": 3
   },
   "file_extension": ".py",
   "mimetype": "text/x-python",
   "name": "python",
   "nbconvert_exporter": "python",
   "pygments_lexer": "ipython3",
   "version": "3.11.4"
  },
  "orig_nbformat": 4
 },
 "nbformat": 4,
 "nbformat_minor": 2
}
