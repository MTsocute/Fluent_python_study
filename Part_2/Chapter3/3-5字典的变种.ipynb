{
 "cells": [
  {
   "cell_type": "markdown",
   "source": [
    "# 不同的字典类型"
   ],
   "metadata": {
    "collapsed": false
   }
  },
  {
   "cell_type": "markdown",
   "source": [
    "## 1. Orderdict( )\n",
    "> 添加键的时候，保持顺序，所以键的迭代顺序总是一致的 <br>\n",
    "> popitem() 把这类字典当作栈的，如果你设置了 popitem(last=True) 就是队列了 <br>\n",
    "> 既 FILO --> FIFO\n"
   ],
   "metadata": {
    "collapsed": false
   }
  },
  {
   "cell_type": "code",
   "execution_count": 2,
   "outputs": [
    {
     "data": {
      "text/plain": "OrderedDict([('b', 2), ('a', 1), ('c', 3)])"
     },
     "execution_count": 2,
     "metadata": {},
     "output_type": "execute_result"
    }
   ],
   "source": [
    "from collections import OrderedDict\n",
    "\n",
    "d = OrderedDict()\n",
    "d['b'] = 2\n",
    "d['a'] = 1\n",
    "d['c'] = 3\n",
    "\n",
    "d   # 保持顺序存储"
   ],
   "metadata": {
    "collapsed": false,
    "ExecuteTime": {
     "end_time": "2023-07-14T21:21:20.983612Z",
     "start_time": "2023-07-14T21:21:20.980008Z"
    }
   }
  },
  {
   "cell_type": "code",
   "execution_count": 3,
   "outputs": [
    {
     "data": {
      "text/plain": "('c', 3)"
     },
     "execution_count": 3,
     "metadata": {},
     "output_type": "execute_result"
    }
   ],
   "source": [
    "d.popitem()"
   ],
   "metadata": {
    "collapsed": false,
    "ExecuteTime": {
     "end_time": "2023-07-14T21:21:22.127368Z",
     "start_time": "2023-07-14T21:21:22.122050Z"
    }
   }
  },
  {
   "cell_type": "markdown",
   "source": [
    "删除第一个元素"
   ],
   "metadata": {
    "collapsed": false
   }
  },
  {
   "cell_type": "code",
   "execution_count": 4,
   "outputs": [
    {
     "data": {
      "text/plain": "('a', 1)"
     },
     "execution_count": 4,
     "metadata": {},
     "output_type": "execute_result"
    }
   ],
   "source": [
    "d.popitem(last=True)"
   ],
   "metadata": {
    "collapsed": false,
    "ExecuteTime": {
     "end_time": "2023-07-14T21:22:05.247319Z",
     "start_time": "2023-07-14T21:22:05.238415Z"
    }
   }
  },
  {
   "cell_type": "markdown",
   "source": [
    "## 2. ChainMap( )\n",
    "> 容纳其它的字典，然后把键全部包含在这个 ChainMap 对象中，我们就可以用一个字典对应找到所有键和值"
   ],
   "metadata": {
    "collapsed": false
   }
  },
  {
   "cell_type": "code",
   "execution_count": 8,
   "outputs": [
    {
     "name": "stdout",
     "output_type": "stream",
     "text": [
      "1\n",
      "3\n"
     ]
    }
   ],
   "source": [
    "from collections import ChainMap\n",
    "\n",
    "dict1 = {'a': 1, 'b': 2}\n",
    "dict2 = {'c': 3, 'b': 4}    # 如果有重复的元素，也是会用第一次出现的字典中的键值对\n",
    "\n",
    "# 把两个字典的键里联合在一个里面，直接查找\n",
    "chain = ChainMap(dict1, dict2)\n",
    "\n",
    "print(chain['a'])  # 输出: 1\n",
    "print(chain['b'])  # 输出: 2\n",
    "print(chain['c'])  # 输出: 3"
   ],
   "metadata": {
    "collapsed": false,
    "ExecuteTime": {
     "end_time": "2023-07-14T21:28:05.013158Z",
     "start_time": "2023-07-14T21:28:05.012344Z"
    }
   }
  },
  {
   "cell_type": "markdown",
   "source": [
    "## 3. Counter( )\n",
    "> 创建的Counter()对象时，传入可迭代对象，然后就会创建出现次数的键值对"
   ],
   "metadata": {
    "collapsed": false
   }
  },
  {
   "cell_type": "code",
   "execution_count": 4,
   "outputs": [
    {
     "name": "stdout",
     "output_type": "stream",
     "text": [
      "Counter({'b': 7, 'a': 6, 'd': 6, 'g': 3})\n",
      "Counter({4: 4, 3: 3, 2: 2, 1: 1})\n"
     ]
    }
   ],
   "source": [
    "from collections import Counter\n",
    "\n",
    "# 创建空的计数器\n",
    "counter1 = Counter(\"abdbadabbdagdgabdbbagd\")\n",
    "\n",
    "# 创建计数器并传入可迭代对象\n",
    "counter2 = Counter([1, 2, 2, 3, 3, 3, 4, 4, 4, 4])\n",
    "\n",
    "print(counter1)\n",
    "print(counter2)"
   ],
   "metadata": {
    "collapsed": false
   }
  }
 ],
 "metadata": {
  "kernelspec": {
   "display_name": "Python 3",
   "language": "python",
   "name": "python3"
  },
  "language_info": {
   "codemirror_mode": {
    "name": "ipython",
    "version": 2
   },
   "file_extension": ".py",
   "mimetype": "text/x-python",
   "name": "python",
   "nbconvert_exporter": "python",
   "pygments_lexer": "ipython2",
   "version": "2.7.6"
  }
 },
 "nbformat": 4,
 "nbformat_minor": 0
}
